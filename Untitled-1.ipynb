{
 "cells": [
  {
   "cell_type": "code",
   "execution_count": 1,
   "metadata": {},
   "outputs": [],
   "source": [
    "import pandas as pd\n",
    "import matplotlib.pyplot as plt"
   ]
  },
  {
   "cell_type": "code",
   "execution_count": 7,
   "metadata": {},
   "outputs": [
    {
     "name": "stdout",
     "output_type": "stream",
     "text": [
      "<class 'pandas.core.frame.DataFrame'>\n",
      "RangeIndex: 100 entries, 0 to 99\n",
      "Data columns (total 10 columns):\n",
      " #   Column            Non-Null Count  Dtype  \n",
      "---  ------            --------------  -----  \n",
      " 0   ID_Jogador        100 non-null    int64  \n",
      " 1   Nome_Jogador      100 non-null    object \n",
      " 2   Posição           100 non-null    object \n",
      " 3   Gols_Marcados     100 non-null    int64  \n",
      " 4   Assistências      100 non-null    int64  \n",
      " 5   Faltas_Cometidas  100 non-null    int64  \n",
      " 6   Minutos_Jogados   100 non-null    int64  \n",
      " 7   Número_da_Camisa  100 non-null    int64  \n",
      " 8   Altura_cm         100 non-null    float64\n",
      " 9   Peso_kg           100 non-null    float64\n",
      "dtypes: float64(2), int64(6), object(2)\n",
      "memory usage: 7.9+ KB\n"
     ]
    }
   ],
   "source": [
    "df = pd.read_csv(r\"C:\\Users\\diego\\Downloads\\DataS\\DataScience\\dataset_futebol.csv\")\n",
    "df.info()"
   ]
  },
  {
   "cell_type": "code",
   "execution_count": 10,
   "metadata": {},
   "outputs": [
    {
     "data": {
      "text/html": [
       "<div>\n",
       "<style scoped>\n",
       "    .dataframe tbody tr th:only-of-type {\n",
       "        vertical-align: middle;\n",
       "    }\n",
       "\n",
       "    .dataframe tbody tr th {\n",
       "        vertical-align: top;\n",
       "    }\n",
       "\n",
       "    .dataframe thead th {\n",
       "        text-align: right;\n",
       "    }\n",
       "</style>\n",
       "<table border=\"1\" class=\"dataframe\">\n",
       "  <thead>\n",
       "    <tr style=\"text-align: right;\">\n",
       "      <th></th>\n",
       "      <th>ID_Jogador</th>\n",
       "      <th>Nome_Jogador</th>\n",
       "      <th>Posição</th>\n",
       "      <th>Gols_Marcados</th>\n",
       "      <th>Assistências</th>\n",
       "      <th>Faltas_Cometidas</th>\n",
       "      <th>Minutos_Jogados</th>\n",
       "      <th>Número_da_Camisa</th>\n",
       "      <th>Altura_cm</th>\n",
       "      <th>Peso_kg</th>\n",
       "    </tr>\n",
       "  </thead>\n",
       "  <tbody>\n",
       "    <tr>\n",
       "      <th>0</th>\n",
       "      <td>1</td>\n",
       "      <td>Jogador D</td>\n",
       "      <td>Goleiro</td>\n",
       "      <td>21</td>\n",
       "      <td>8</td>\n",
       "      <td>3</td>\n",
       "      <td>2690</td>\n",
       "      <td>36</td>\n",
       "      <td>162.797264</td>\n",
       "      <td>60.707512</td>\n",
       "    </tr>\n",
       "    <tr>\n",
       "      <th>1</th>\n",
       "      <td>2</td>\n",
       "      <td>Jogador B</td>\n",
       "      <td>Meia</td>\n",
       "      <td>27</td>\n",
       "      <td>2</td>\n",
       "      <td>1</td>\n",
       "      <td>1416</td>\n",
       "      <td>84</td>\n",
       "      <td>185.606729</td>\n",
       "      <td>84.102127</td>\n",
       "    </tr>\n",
       "    <tr>\n",
       "      <th>2</th>\n",
       "      <td>3</td>\n",
       "      <td>Jogador C</td>\n",
       "      <td>Defensor</td>\n",
       "      <td>19</td>\n",
       "      <td>9</td>\n",
       "      <td>1</td>\n",
       "      <td>3375</td>\n",
       "      <td>68</td>\n",
       "      <td>170.845897</td>\n",
       "      <td>74.591929</td>\n",
       "    </tr>\n",
       "    <tr>\n",
       "      <th>3</th>\n",
       "      <td>4</td>\n",
       "      <td>Jogador D</td>\n",
       "      <td>Meia</td>\n",
       "      <td>0</td>\n",
       "      <td>18</td>\n",
       "      <td>8</td>\n",
       "      <td>3152</td>\n",
       "      <td>7</td>\n",
       "      <td>183.712480</td>\n",
       "      <td>75.458434</td>\n",
       "    </tr>\n",
       "    <tr>\n",
       "      <th>4</th>\n",
       "      <td>5</td>\n",
       "      <td>Jogador D</td>\n",
       "      <td>Atacante</td>\n",
       "      <td>9</td>\n",
       "      <td>2</td>\n",
       "      <td>4</td>\n",
       "      <td>1996</td>\n",
       "      <td>54</td>\n",
       "      <td>187.205277</td>\n",
       "      <td>82.577644</td>\n",
       "    </tr>\n",
       "  </tbody>\n",
       "</table>\n",
       "</div>"
      ],
      "text/plain": [
       "   ID_Jogador Nome_Jogador   Posição  Gols_Marcados  Assistências  \\\n",
       "0           1    Jogador D   Goleiro             21             8   \n",
       "1           2    Jogador B      Meia             27             2   \n",
       "2           3    Jogador C  Defensor             19             9   \n",
       "3           4    Jogador D      Meia              0            18   \n",
       "4           5    Jogador D  Atacante              9             2   \n",
       "\n",
       "   Faltas_Cometidas  Minutos_Jogados  Número_da_Camisa   Altura_cm    Peso_kg  \n",
       "0                 3             2690                36  162.797264  60.707512  \n",
       "1                 1             1416                84  185.606729  84.102127  \n",
       "2                 1             3375                68  170.845897  74.591929  \n",
       "3                 8             3152                 7  183.712480  75.458434  \n",
       "4                 4             1996                54  187.205277  82.577644  "
      ]
     },
     "execution_count": 10,
     "metadata": {},
     "output_type": "execute_result"
    }
   ],
   "source": [
    "df.head()"
   ]
  },
  {
   "cell_type": "code",
   "execution_count": 10,
   "metadata": {},
   "outputs": [],
   "source": [
    "valor_maximo = df['Gols_Marcados'].max()"
   ]
  },
  {
   "cell_type": "code",
   "execution_count": 13,
   "metadata": {},
   "outputs": [
    {
     "data": {
      "text/html": [
       "<div>\n",
       "<style scoped>\n",
       "    .dataframe tbody tr th:only-of-type {\n",
       "        vertical-align: middle;\n",
       "    }\n",
       "\n",
       "    .dataframe tbody tr th {\n",
       "        vertical-align: top;\n",
       "    }\n",
       "\n",
       "    .dataframe thead th {\n",
       "        text-align: right;\n",
       "    }\n",
       "</style>\n",
       "<table border=\"1\" class=\"dataframe\">\n",
       "  <thead>\n",
       "    <tr style=\"text-align: right;\">\n",
       "      <th></th>\n",
       "      <th>ID_Jogador</th>\n",
       "      <th>Nome_Jogador</th>\n",
       "      <th>Posição</th>\n",
       "      <th>Gols_Marcados</th>\n",
       "      <th>Assistências</th>\n",
       "      <th>Faltas_Cometidas</th>\n",
       "      <th>Minutos_Jogados</th>\n",
       "      <th>Número_da_Camisa</th>\n",
       "      <th>Altura_cm</th>\n",
       "      <th>Peso_kg</th>\n",
       "    </tr>\n",
       "  </thead>\n",
       "  <tbody>\n",
       "    <tr>\n",
       "      <th>14</th>\n",
       "      <td>15</td>\n",
       "      <td>Jogador B</td>\n",
       "      <td>Goleiro</td>\n",
       "      <td>29</td>\n",
       "      <td>19</td>\n",
       "      <td>0</td>\n",
       "      <td>3515</td>\n",
       "      <td>9</td>\n",
       "      <td>183.219000</td>\n",
       "      <td>91.307842</td>\n",
       "    </tr>\n",
       "    <tr>\n",
       "      <th>51</th>\n",
       "      <td>52</td>\n",
       "      <td>Jogador C</td>\n",
       "      <td>Atacante</td>\n",
       "      <td>29</td>\n",
       "      <td>8</td>\n",
       "      <td>9</td>\n",
       "      <td>835</td>\n",
       "      <td>37</td>\n",
       "      <td>171.188142</td>\n",
       "      <td>70.634045</td>\n",
       "    </tr>\n",
       "    <tr>\n",
       "      <th>53</th>\n",
       "      <td>54</td>\n",
       "      <td>Jogador C</td>\n",
       "      <td>Goleiro</td>\n",
       "      <td>29</td>\n",
       "      <td>13</td>\n",
       "      <td>1</td>\n",
       "      <td>3688</td>\n",
       "      <td>35</td>\n",
       "      <td>194.933466</td>\n",
       "      <td>79.973353</td>\n",
       "    </tr>\n",
       "  </tbody>\n",
       "</table>\n",
       "</div>"
      ],
      "text/plain": [
       "    ID_Jogador Nome_Jogador   Posição  Gols_Marcados  Assistências  \\\n",
       "14          15    Jogador B   Goleiro             29            19   \n",
       "51          52    Jogador C  Atacante             29             8   \n",
       "53          54    Jogador C   Goleiro             29            13   \n",
       "\n",
       "    Faltas_Cometidas  Minutos_Jogados  Número_da_Camisa   Altura_cm    Peso_kg  \n",
       "14                 0             3515                 9  183.219000  91.307842  \n",
       "51                 9              835                37  171.188142  70.634045  \n",
       "53                 1             3688                35  194.933466  79.973353  "
      ]
     },
     "execution_count": 13,
     "metadata": {},
     "output_type": "execute_result"
    }
   ],
   "source": [
    "linhas_maximas = df[df['Gols_Marcados'] == valor_maximo]\n",
    "linhas_maximas"
   ]
  },
  {
   "cell_type": "code",
   "execution_count": 73,
   "metadata": {},
   "outputs": [
    {
     "data": {
      "text/plain": [
       "['Jogador B', 'Jogador C', 'Jogador C']"
      ]
     },
     "execution_count": 73,
     "metadata": {},
     "output_type": "execute_result"
    }
   ],
   "source": [
    "jogadores_artilheiros = linhas_maximas['Nome_Jogador'].tolist()\n",
    "jogadores_artilheiros"
   ]
  },
  {
   "cell_type": "code",
   "execution_count": 74,
   "metadata": {},
   "outputs": [
    {
     "name": "stdout",
     "output_type": "stream",
     "text": [
      "O jogador com mais gols é: Jogador C\n"
     ]
    },
    {
     "data": {
      "image/png": "[encoded data removed]",
      "text/plain": [
       "<Figure size 1000x700 with 1 Axes>"
      ]
     },
     "metadata": {},
     "output_type": "display_data"
    }
   ],
   "source": [
    "\n",
    "# Passo 1: Agrupar os dados por jogador e posição, somando os gols\n",
    "df_grouped = df.groupby(['Nome_Jogador', 'Posição'])['Gols_Marcados'].sum().unstack(fill_value=0)\n",
    "\n",
    "# Passo 2: Identificar o jogador com mais gols\n",
    "jogador_com_mais_gols = df.groupby('Nome_Jogador')['Gols_Marcados'].sum().idxmax()\n",
    "print(f'O jogador com mais gols é: {jogador_com_mais_gols}')\n",
    "\n",
    "# Passo 3: Preparar os dados para o gráfico\n",
    "# (Já realizado com df_grouped)\n",
    "\n",
    "# Passo 4: Plotar o gráfico de barras empilhadas\n",
    "ax = df_grouped.plot(kind='bar', stacked=True, figsize=(10, 7))\n",
    "plt.title('Gols por Jogador e Posição')\n",
    "plt.xlabel('Nome do Jogador')\n",
    "plt.ylabel('Número de Gols')\n",
    "plt.xticks(rotation=0)\n",
    "plt.legend(title='Posição')\n",
    "plt.tight_layout()\n",
    "plt.show()\n"
   ]
  }
 ],
 "metadata": {
  "kernelspec": {
   "display_name": "Python 3",
   "language": "python",
   "name": "python3"
  },
  "language_info": {
   "codemirror_mode": {
    "name": "ipython",
    "version": 3
   },
   "file_extension": ".py",
   "mimetype": "text/x-python",
   "name": "python",
   "nbconvert_exporter": "python",
   "pygments_lexer": "ipython3",
   "version": "3.12.5"
  }
 },
 "nbformat": 4,
 "nbformat_minor": 2
}
